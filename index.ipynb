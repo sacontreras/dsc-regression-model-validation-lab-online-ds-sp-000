{
 "cells": [
  {
   "cell_type": "markdown",
   "metadata": {},
   "source": [
    "# Regression Model Validation - Lab\n",
    "\n",
    "## Introduction\n",
    "\n",
    "In this lab, you'll be able to validate your model using train-test-split.\n",
    "\n",
    "\n",
    "## Objectives\n",
    "\n",
    "You will be able to:\n",
    "\n",
    "- Calculate the mean squared error (MSE) as a measure of predictive performance\n",
    "- Validate the model using the test data\n"
   ]
  },
  {
   "cell_type": "markdown",
   "metadata": {},
   "source": [
    "## Let's use our Boston Housing Data again!\n",
    "\n",
    "This time, let's only include the variables that were previously selected using recursive feature elimination. We included the code to preprocess below."
   ]
  },
  {
   "cell_type": "code",
   "execution_count": 1,
   "metadata": {},
   "outputs": [],
   "source": [
    "import pandas as pd\n",
    "import numpy as np\n",
    "import matplotlib.pyplot as plt\n",
    "%matplotlib inline\n",
    "from sklearn.datasets import load_boston\n",
    "\n",
    "boston = load_boston()\n",
    "\n",
    "boston_features = pd.DataFrame(boston.data, columns = boston.feature_names)\n",
    "b = boston_features[\"B\"]\n",
    "logdis = np.log(boston_features[\"DIS\"])\n",
    "loglstat = np.log(boston_features[\"LSTAT\"])\n",
    "\n",
    "# minmax scaling\n",
    "boston_features[\"B\"] = (b-min(b))/(max(b)-min(b))\n",
    "boston_features[\"DIS\"] = (logdis-min(logdis))/(max(logdis)-min(logdis))\n",
    "\n",
    "#standardization\n",
    "boston_features[\"LSTAT\"] = (loglstat-np.mean(loglstat))/np.sqrt(np.var(loglstat))"
   ]
  },
  {
   "cell_type": "code",
   "execution_count": 2,
   "metadata": {},
   "outputs": [
    {
     "data": {
      "text/html": "<div>\n<style scoped>\n    .dataframe tbody tr th:only-of-type {\n        vertical-align: middle;\n    }\n\n    .dataframe tbody tr th {\n        vertical-align: top;\n    }\n\n    .dataframe thead th {\n        text-align: right;\n    }\n</style>\n<table border=\"1\" class=\"dataframe\">\n  <thead>\n    <tr style=\"text-align: right;\">\n      <th></th>\n      <th>MEDV</th>\n    </tr>\n  </thead>\n  <tbody>\n    <tr>\n      <td>0</td>\n      <td>24.0</td>\n    </tr>\n    <tr>\n      <td>1</td>\n      <td>21.6</td>\n    </tr>\n    <tr>\n      <td>2</td>\n      <td>34.7</td>\n    </tr>\n    <tr>\n      <td>3</td>\n      <td>33.4</td>\n    </tr>\n    <tr>\n      <td>4</td>\n      <td>36.2</td>\n    </tr>\n  </tbody>\n</table>\n</div>",
      "text/plain": "   MEDV\n0  24.0\n1  21.6\n2  34.7\n3  33.4\n4  36.2"
     },
     "execution_count": 2,
     "metadata": {},
     "output_type": "execute_result"
    }
   ],
   "source": [
    "X = boston_features[['CHAS', 'RM', 'DIS', 'B', 'LSTAT']]\n",
    "y = pd.DataFrame(boston.target, columns=['MEDV'])\n",
    "y.head()"
   ]
  },
  {
   "cell_type": "markdown",
   "metadata": {},
   "source": [
    "## Perform a train-test-split"
   ]
  },
  {
   "cell_type": "code",
   "execution_count": 3,
   "metadata": {},
   "outputs": [
    {
     "name": "stdout",
     "output_type": "stream",
     "text": "354 152 354 152\n"
    }
   ],
   "source": [
    "# based on suggestion, do a 70/30 split, w.r.t. train/test\n",
    "from sklearn.model_selection import train_test_split\n",
    "X_train, X_test, y_train, y_test = train_test_split(X, y, test_size=0.3, random_state=42)\n",
    "print(len(X_train), len(X_test), len(y_train), len(y_test))"
   ]
  },
  {
   "cell_type": "markdown",
   "metadata": {},
   "source": [
    "## Apply your model to the train set"
   ]
  },
  {
   "cell_type": "markdown",
   "metadata": {},
   "source": [
    "#### Importing and initializing the model class"
   ]
  },
  {
   "cell_type": "code",
   "execution_count": 4,
   "metadata": {},
   "outputs": [],
   "source": [
    "from sklearn.linear_model import LinearRegression\n",
    "linreg = LinearRegression()"
   ]
  },
  {
   "cell_type": "markdown",
   "metadata": {},
   "source": [
    "#### Fitting the model to the train data"
   ]
  },
  {
   "cell_type": "code",
   "execution_count": 5,
   "metadata": {},
   "outputs": [
    {
     "data": {
      "text/plain": "LinearRegression(copy_X=True, fit_intercept=True, n_jobs=None, normalize=False)"
     },
     "execution_count": 5,
     "metadata": {},
     "output_type": "execute_result"
    }
   ],
   "source": [
    "linreg.fit(X_train, y_train)"
   ]
  },
  {
   "cell_type": "markdown",
   "metadata": {},
   "source": [
    "#### Calculating predictions on the train set, and on the test set"
   ]
  },
  {
   "cell_type": "code",
   "execution_count": 6,
   "metadata": {},
   "outputs": [],
   "source": [
    "y_hat_train = linreg.predict(X_train)\n",
    "y_hat_test = linreg.predict(X_test)"
   ]
  },
  {
   "cell_type": "markdown",
   "metadata": {},
   "source": [
    "#### Calculating your residuals"
   ]
  },
  {
   "cell_type": "code",
   "execution_count": 7,
   "metadata": {},
   "outputs": [],
   "source": [
    "train_residuals = y_hat_train - y_train\n",
    "test_residuals = y_hat_test - y_test"
   ]
  },
  {
   "cell_type": "markdown",
   "metadata": {},
   "source": [
    "#### Calculating the Mean Squared Error\n",
    "A good way to compare overall performance is to compare the mean squarred error for the predicted values on the train and test sets."
   ]
  },
  {
   "cell_type": "code",
   "execution_count": 8,
   "metadata": {},
   "outputs": [
    {
     "name": "stdout",
     "output_type": "stream",
     "text": "Train Mean Squarred Error: 21.790399879500264\nTest Mean Squarred Error: 21.637653154687097\ndelta: 0.15274672481316642\n"
    }
   ],
   "source": [
    "# directly\n",
    "#mse_train = np.sum((y_train-y_hat_train)**2)/len(y_train)\n",
    "#mse_test = np.sum((y_test-y_hat_test)**2)/len(y_test)\n",
    "#print('Train Mean Squarred Error:', mse_train)\n",
    "#print('Test Mean Squarred Error:', mse_test)\n",
    "\n",
    "from sklearn.metrics import mean_squared_error\n",
    "\n",
    "train_mse = mean_squared_error(y_train, y_hat_train)\n",
    "test_mse = mean_squared_error(y_test, y_hat_test)\n",
    "print('Train Mean Squarred Error:', train_mse)\n",
    "print('Test Mean Squarred Error:', test_mse)\n",
    "\n",
    "delta = abs(train_mse - test_mse)\n",
    "print(\"delta: {}\".format(delta))"
   ]
  },
  {
   "cell_type": "markdown",
   "metadata": {},
   "source": [
    "If your test error is substantially worse then our train error, this is a sign that our model doesn't generalize well to future cases."
   ]
  },
  {
   "cell_type": "markdown",
   "metadata": {},
   "source": [
    "One simple way to demonstrate overfitting and underfitting is to alter the size of our train test split. By default, scikit learn's built in method allocates 25% of the data to the test set and 75% to the training set. Fitting a model on only 10% of the data is apt to lead to underfitting, while training a model on 99% of the data is apt to lead to overfitting."
   ]
  },
  {
   "cell_type": "markdown",
   "metadata": {},
   "source": [
    "# Evaluating the effect of train-test split size\n",
    "\n",
    "Iterate over a range of train-test split sizes from .5 to .95. For each of these, generate a new train/test split sample. Fit a model to the training sample and calculate both the training error and the test error (mse) for each of these splits. Plot these two curves (train error vs. training size and test error vs. training size) on a graph."
   ]
  },
  {
   "cell_type": "code",
   "execution_count": 9,
   "metadata": {},
   "outputs": [
    {
     "name": "stdout",
     "output_type": "stream",
     "text": "test-size ration: 0.05\n================================\n480 26 480 26\nTrain Mean Squarred Error: 22.176211267599918\nTest Mean Squarred Error: 12.967956505177982\ndelta: 9.208254762421936\n================================\n\ntest-size ration: 0.1\n================================\n455 51 455 51\nTrain Mean Squarred Error: 22.46122514195907\nTest Mean Squarred Error: 15.046884226368066\ndelta: 7.414340915591003\n================================\n\ntest-size ration: 0.15\n================================\n430 76 430 76\nTrain Mean Squarred Error: 22.932119154437025\nTest Mean Squarred Error: 15.131445796411382\ndelta: 7.800673358025643\n================================\n\ntest-size ration: 0.2\n================================\n404 102 404 102\nTrain Mean Squarred Error: 21.371163624945574\nTest Mean Squarred Error: 23.476104314750756\ndelta: 2.104940689805183\n================================\n\ntest-size ration: 0.25\n================================\n379 127 379 127\nTrain Mean Squarred Error: 21.536815607555614\nTest Mean Squarred Error: 22.472035278906905\ndelta: 0.935219671351291\n================================\n\ntest-size ration: 0.3\n================================\n354 152 354 152\nTrain Mean Squarred Error: 21.790399879500264\nTest Mean Squarred Error: 21.637653154687097\ndelta: 0.15274672481316642\n================================\n\ntest-size ration: 0.35\n================================\n328 178 328 178\nTrain Mean Squarred Error: 21.521833804260616\nTest Mean Squarred Error: 22.265085351768004\ndelta: 0.7432515475073878\n================================\n\ntest-size ration: 0.4\n================================\n303 203 303 203\nTrain Mean Squarred Error: 22.057662591622645\nTest Mean Squarred Error: 21.380293545587058\ndelta: 0.6773690460355866\n================================\n\ntest-size ration: 0.45\n================================\n278 228 278 228\nTrain Mean Squarred Error: 22.241801163316893\nTest Mean Squarred Error: 21.541272604813106\ndelta: 0.7005285585037875\n================================\n\ntest-size ration: 0.5\n================================\n253 253 253 253\nTrain Mean Squarred Error: 19.93331213010429\nTest Mean Squarred Error: 23.887114741825318\ndelta: 3.953802611721027\n================================\n\ntest-size ration: 0.55\n================================\n227 279 227 279\nTrain Mean Squarred Error: 21.010322696284334\nTest Mean Squarred Error: 22.607170016657978\ndelta: 1.5968473203736444\n================================\n\ntest-size ration: 0.6\n================================\n202 304 202 304\nTrain Mean Squarred Error: 21.476425599624132\nTest Mean Squarred Error: 22.527775799583342\ndelta: 1.0513501999592094\n================================\n\ntest-size ration: 0.65\n================================\n177 329 177 329\nTrain Mean Squarred Error: 20.744750272452354\nTest Mean Squarred Error: 23.92165476971866\ndelta: 3.1769044972663067\n================================\n\ntest-size ration: 0.7\n================================\n151 355 151 355\nTrain Mean Squarred Error: 21.367504803352446\nTest Mean Squarred Error: 23.307746352452142\ndelta: 1.9402415490996958\n================================\n\ntest-size ration: 0.75\n================================\n126 380 126 380\nTrain Mean Squarred Error: 21.129531800335418\nTest Mean Squarred Error: 23.221807091599054\ndelta: 2.092275291263636\n================================\n\ntest-size ration: 0.8\n================================\n101 405 101 405\nTrain Mean Squarred Error: 21.3376176777614\nTest Mean Squarred Error: 23.072191687546812\ndelta: 1.7345740097854119\n================================\n\ntest-size ration: 0.85\n================================\n75 431 75 431\nTrain Mean Squarred Error: 22.18690637940182\nTest Mean Squarred Error: 25.75382780895678\ndelta: 3.5669214295549594\n================================\n\ntest-size ration: 0.9\n================================\n50 456 50 456\nTrain Mean Squarred Error: 25.886936757648133\nTest Mean Squarred Error: 26.481104774770163\ndelta: 0.5941680171220298\n================================\n\ntest-size ration: 0.95\n================================\n25 481 25 481\nTrain Mean Squarred Error: 18.842211569786446\nTest Mean Squarred Error: 88.49901329581499\ndelta: 69.65680172602855\n================================\n\n\nRESULT: delta_min=0.15274672481316642, best split = 0.7 train ratio, 0.3 test ratio\n"
    }
   ],
   "source": [
    "def find_best_train_test_split(X, y):\n",
    "    delta_min = -1\n",
    "    best_split = 0\n",
    "\n",
    "    for test_ratio in range(5, 100, 5):\n",
    "        tr = test_ratio/100\n",
    "        print(\"test-size ration: {}\".format(tr))\n",
    "        print(\"================================\")\n",
    "        X_train, X_test, y_train, y_test = train_test_split(X, y, test_size=tr, random_state=42)\n",
    "        print(len(X_train), len(X_test), len(y_train), len(y_test))\n",
    "        linreg.fit(X_train, y_train)\n",
    "        y_hat_train = linreg.predict(X_train)\n",
    "        y_hat_test = linreg.predict(X_test)\n",
    "        train_residuals = y_hat_train - y_train\n",
    "        test_residuals = y_hat_test - y_test\n",
    "        train_mse = mean_squared_error(y_train, y_hat_train)\n",
    "        test_mse = mean_squared_error(y_test, y_hat_test)\n",
    "        print('Train Mean Squarred Error:', train_mse)\n",
    "        print('Test Mean Squarred Error:', test_mse)\n",
    "        delta = abs(train_mse - test_mse)\n",
    "        print(\"delta: {}\".format(delta))\n",
    "        if delta_min == -1 or delta < delta_min:\n",
    "            delta_min = delta\n",
    "            best_split = tr\n",
    "        print(\"================================\\n\")\n",
    "\n",
    "    return (delta_min, best_split)\n",
    "\n",
    "delta_min, best_split = find_best_train_test_split(X, y)\n",
    "print(\"\\nRESULT: delta_min={}, best split = {} train ratio, {} test ratio\".format(delta_min, 1-best_split, best_split))"
   ]
  },
  {
   "cell_type": "markdown",
   "metadata": {},
   "source": [
    "# Evaluating the effect of train-test split size: extension\n",
    "\n",
    "Repeat the previous example, but for each train-test split size, generate 100 iterations of models/errors and save the average train/test error. This will help account for any particularly good/bad models that might have resulted from poor/good splits in the data. "
   ]
  },
  {
   "cell_type": "code",
   "execution_count": 10,
   "metadata": {},
   "outputs": [
    {
     "name": "stdout",
     "output_type": "stream",
     "text": "test-size ration: 0.05\n================================\n480 26 480 26\n(Mean over 100 trials) Train Mean Squarred Error: 22.17621126759993\n(Mean over 100 trials) Test Mean Squarred Error: 12.96795650517797\ndelta: 9.208254762421959\n================================\n\ntest-size ration: 0.1\n================================\n455 51 455 51\n(Mean over 100 trials) Train Mean Squarred Error: 22.46122514195911\n(Mean over 100 trials) Test Mean Squarred Error: 15.046884226368087\ndelta: 7.414340915591021\n================================\n\ntest-size ration: 0.15\n================================\n430 76 430 76\n(Mean over 100 trials) Train Mean Squarred Error: 22.932119154437004\n(Mean over 100 trials) Test Mean Squarred Error: 15.131445796411361\ndelta: 7.800673358025643\n================================\n\ntest-size ration: 0.2\n================================\n404 102 404 102\n(Mean over 100 trials) Train Mean Squarred Error: 21.371163624945606\n(Mean over 100 trials) Test Mean Squarred Error: 23.47610431475076\ndelta: 2.1049406898051544\n================================\n\ntest-size ration: 0.25\n================================\n379 127 379 127\n(Mean over 100 trials) Train Mean Squarred Error: 21.536815607555596\n(Mean over 100 trials) Test Mean Squarred Error: 22.472035278906947\ndelta: 0.9352196713513514\n================================\n\ntest-size ration: 0.3\n================================\n354 152 354 152\n(Mean over 100 trials) Train Mean Squarred Error: 21.790399879500256\n(Mean over 100 trials) Test Mean Squarred Error: 21.63765315468709\ndelta: 0.15274672481316642\n================================\n\ntest-size ration: 0.35\n================================\n328 178 328 178\n(Mean over 100 trials) Train Mean Squarred Error: 21.52183380426066\n(Mean over 100 trials) Test Mean Squarred Error: 22.265085351767997\ndelta: 0.743251547507338\n================================\n\ntest-size ration: 0.4\n================================\n303 203 303 203\n(Mean over 100 trials) Train Mean Squarred Error: 22.057662591622634\n(Mean over 100 trials) Test Mean Squarred Error: 21.3802935455871\ndelta: 0.6773690460355333\n================================\n\ntest-size ration: 0.45\n================================\n278 228 278 228\n(Mean over 100 trials) Train Mean Squarred Error: 22.241801163316918\n(Mean over 100 trials) Test Mean Squarred Error: 21.541272604813056\ndelta: 0.7005285585038621\n================================\n\ntest-size ration: 0.5\n================================\n253 253 253 253\n(Mean over 100 trials) Train Mean Squarred Error: 19.933312130104255\n(Mean over 100 trials) Test Mean Squarred Error: 23.887114741825357\ndelta: 3.953802611721102\n================================\n\ntest-size ration: 0.55\n================================\n227 279 227 279\n(Mean over 100 trials) Train Mean Squarred Error: 21.010322696284273\n(Mean over 100 trials) Test Mean Squarred Error: 22.607170016658024\ndelta: 1.596847320373751\n================================\n\ntest-size ration: 0.6\n================================\n202 304 202 304\n(Mean over 100 trials) Train Mean Squarred Error: 21.476425599624182\n(Mean over 100 trials) Test Mean Squarred Error: 22.52777579958336\ndelta: 1.0513501999591774\n================================\n\ntest-size ration: 0.65\n================================\n177 329 177 329\n(Mean over 100 trials) Train Mean Squarred Error: 20.74475027245238\n(Mean over 100 trials) Test Mean Squarred Error: 23.92165476971872\ndelta: 3.1769044972663423\n================================\n\ntest-size ration: 0.7\n================================\n151 355 151 355\n(Mean over 100 trials) Train Mean Squarred Error: 21.367504803352418\n(Mean over 100 trials) Test Mean Squarred Error: 23.307746352452146\ndelta: 1.9402415490997278\n================================\n\ntest-size ration: 0.75\n================================\n126 380 126 380\n(Mean over 100 trials) Train Mean Squarred Error: 21.129531800335386\n(Mean over 100 trials) Test Mean Squarred Error: 23.221807091599043\ndelta: 2.0922752912636575\n================================\n\ntest-size ration: 0.8\n================================\n101 405 101 405\n(Mean over 100 trials) Train Mean Squarred Error: 21.337617677761447\n(Mean over 100 trials) Test Mean Squarred Error: 23.072191687546816\ndelta: 1.7345740097853692\n================================\n\ntest-size ration: 0.85\n================================\n75 431 75 431\n(Mean over 100 trials) Train Mean Squarred Error: 22.186906379401794\n(Mean over 100 trials) Test Mean Squarred Error: 25.75382780895684\ndelta: 3.5669214295550447\n================================\n\ntest-size ration: 0.9\n================================\n50 456 50 456\n(Mean over 100 trials) Train Mean Squarred Error: 25.886936757648108\n(Mean over 100 trials) Test Mean Squarred Error: 26.481104774770166\ndelta: 0.5941680171220582\n================================\n\ntest-size ration: 0.95\n================================\n25 481 25 481\n(Mean over 100 trials) Train Mean Squarred Error: 18.842211569786468\n(Mean over 100 trials) Test Mean Squarred Error: 88.49901329581489\ndelta: 69.65680172602842\n================================\n\n\nRESULT: delta_min=0.15274672481316642, best split = 0.7 train ratio, 0.3 test ratio\n"
    }
   ],
   "source": [
    "def find_best_train_test_split_over_n_trials(X, y, n):\n",
    "    delta_min = -1\n",
    "    best_split = 0\n",
    "\n",
    "    for test_ratio in range(5, 100, 5):\n",
    "        tr = test_ratio/100\n",
    "        print(\"test-size ration: {}\".format(tr))\n",
    "        print(\"================================\")\n",
    "        mean_train_mse = 0\n",
    "        mean_test_mse = 0\n",
    "\n",
    "        for i in range(0, n):\n",
    "            X_train, X_test, y_train, y_test = train_test_split(X, y, test_size=tr, random_state=42)           \n",
    "            linreg.fit(X_train, y_train)\n",
    "            y_hat_train = linreg.predict(X_train)\n",
    "            y_hat_test = linreg.predict(X_test)\n",
    "            train_residuals = y_hat_train - y_train\n",
    "            test_residuals = y_hat_test - y_test\n",
    "            train_mse = mean_squared_error(y_train, y_hat_train)\n",
    "            mean_train_mse += train_mse\n",
    "            test_mse = mean_squared_error(y_test, y_hat_test)\n",
    "            mean_test_mse += test_mse\n",
    "           \n",
    "        mean_train_mse = mean_train_mse/n\n",
    "        mean_test_mse = mean_test_mse/n\n",
    "        print(len(X_train), len(X_test), len(y_train), len(y_test))\n",
    "        print('(Mean over {} trials) Train Mean Squarred Error: {}'.format(n, mean_train_mse))\n",
    "        print('(Mean over {} trials) Test Mean Squarred Error: {}'.format(n, mean_test_mse))\n",
    "        delta = abs(mean_train_mse - mean_test_mse)\n",
    "        print(\"delta: {}\".format(delta))\n",
    "        if delta_min == -1 or delta < delta_min:\n",
    "                delta_min = delta\n",
    "                best_split = tr\n",
    "        print(\"================================\\n\")\n",
    "\n",
    "    return (delta_min, best_split)\n",
    "\n",
    "prev_delta_min, prev_best_split = delta_min, best_split\n",
    "delta_min, best_split = find_best_train_test_split_over_n_trials(X, y, 100)\n",
    "print(\"\\nRESULT: delta_min={}, best split = {} train ratio, {} test ratio\".format(delta_min, 1-best_split, best_split))"
   ]
  },
  {
   "cell_type": "markdown",
   "metadata": {},
   "source": [
    "What's happening here? evaluate your result!"
   ]
  },
  {
   "cell_type": "code",
   "execution_count": 11,
   "metadata": {},
   "outputs": [
    {
     "name": "stdout",
     "output_type": "stream",
     "text": "delta_min=0.15274672481316642, best_split=0.3\nprev_delta_min=0.15274672481316642, prev_best_split=0.3\nabs(delta_min - prev_delta_min)=0.0, abs(best_split - prev_best_split)=0.0\n"
    }
   ],
   "source": [
    "print(\"delta_min={}, best_split={}\".format(delta_min, best_split))\n",
    "print(\"prev_delta_min={}, prev_best_split={}\".format(prev_delta_min, prev_best_split))\n",
    "print(\"abs(delta_min - prev_delta_min)={}, abs(best_split - prev_best_split)={}\".format(abs(delta_min - prev_delta_min), abs(best_split - prev_best_split)))"
   ]
  },
  {
   "cell_type": "markdown",
   "metadata": {},
   "source": [
    "##  Summary "
   ]
  },
  {
   "cell_type": "markdown",
   "metadata": {},
   "source": [
    "Congratulations! You now practiced your knowledge on MSE and on using train-test-split."
   ]
  }
 ],
 "metadata": {
  "kernelspec": {
   "display_name": "Python 3",
   "language": "python",
   "name": "python3"
  },
  "language_info": {
   "codemirror_mode": {
    "name": "ipython",
    "version": 3
   },
   "file_extension": ".py",
   "mimetype": "text/x-python",
   "name": "python",
   "nbconvert_exporter": "python",
   "pygments_lexer": "ipython3",
   "version": "3.6.4"
  }
 },
 "nbformat": 4,
 "nbformat_minor": 2
}